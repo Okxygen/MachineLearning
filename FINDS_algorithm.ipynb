{
 "cells": [
  {
   "cell_type": "raw",
   "metadata": {},
   "source": [
    "FIND-S algortihm is a basic concept learning algorithm that looks for the most specific hypothesis fitting all the positive examples. Negative examples are not taken into account. \n",
    "\n",
    "Specifics:\n",
    "- Start with most specific hypothesis: {(∅, ∅, ∅, ∅, ∅, ∅)}\n",
    "- Generalize if a new positive example is not covered yet\n",
    "\n",
    "Algorithm steps:\n",
    "1. Initialize h to the most specific hypothesis \n",
    "2. For each positive training instance x\n",
    "    For each attribute constraint a, in h\n",
    "        If the constraint a, is satisfied by x\n",
    "        Then do nothing\n",
    "        Else replace a, in h by the next more general constraint that is satisfied by x\n",
    "3. Output hypothesis h "
   ]
  },
  {
   "cell_type": "raw",
   "metadata": {},
   "source": [
    "Data preparation (optional)\n",
    "Download the dataset and save in the directory \"data\":\n",
    "column_names = ['class', 'cap-shape', 'cap-surface', 'cap-color', 'bruises',\n",
    "                'odor', 'gill-attachment', 'gill-spacing', 'gill-size',\n",
    "                'gill-color', 'stalk-shape', 'stalk-root', 'stalk-surface-above-ring',\n",
    "                'stalk-surface-below-ring', 'stalk-color-above-ring', \n",
    "                'stalk-color-below-ring', 'veil-type', 'veil-color', 'ring-number', \n",
    "                'ring-type', 'spore-print-color', 'population', 'habitat']\n",
    "\n",
    "url = 'https://archive.ics.uci.edu/ml/machine-learning-databases/mushroom/agaricus-lepiota.data'\n",
    "mydata = pd.read_csv(\"data/mushroom_data.csv\", header=None, names=column_names)\n",
    "mydata.to_csv('mushroom_dataset.csv')\n",
    "\n",
    "The column \"Stalk-root\" contains 2480 missing values marked by \"?\" and, thus, has been excluded:\n",
    "mydata = mydata.drop(['stalk-root'], axis=1)"
   ]
  },
  {
   "cell_type": "code",
   "execution_count": 1,
   "metadata": {},
   "outputs": [],
   "source": [
    "# Import all necessary packages\n",
    "import pandas as pd\n",
    "import numpy as np"
   ]
  },
  {
   "cell_type": "code",
   "execution_count": 2,
   "metadata": {},
   "outputs": [
    {
     "name": "stdout",
     "output_type": "stream",
     "text": [
      "<class 'pandas.core.frame.DataFrame'>\n",
      "RangeIndex: 8124 entries, 0 to 8123\n",
      "Data columns (total 23 columns):\n",
      "Unnamed: 0                  8124 non-null int64\n",
      "class                       8124 non-null object\n",
      "cap-shape                   8124 non-null object\n",
      "cap-surface                 8124 non-null object\n",
      "cap-color                   8124 non-null object\n",
      "bruises                     8124 non-null object\n",
      "odor                        8124 non-null object\n",
      "gill-attachment             8124 non-null object\n",
      "gill-spacing                8124 non-null object\n",
      "gill-size                   8124 non-null object\n",
      "gill-color                  8124 non-null object\n",
      "stalk-shape                 8124 non-null object\n",
      "stalk-surface-above-ring    8124 non-null object\n",
      "stalk-surface-below-ring    8124 non-null object\n",
      "stalk-color-above-ring      8124 non-null object\n",
      "stalk-color-below-ring      8124 non-null object\n",
      "veil-type                   8124 non-null object\n",
      "veil-color                  8124 non-null object\n",
      "ring-number                 8124 non-null object\n",
      "ring-type                   8124 non-null object\n",
      "spore-print-color           8124 non-null object\n",
      "population                  8124 non-null object\n",
      "habitat                     8124 non-null object\n",
      "dtypes: int64(1), object(22)\n",
      "memory usage: 1.4+ MB\n"
     ]
    }
   ],
   "source": [
    "# Import dataset to the work space\n",
    "\n",
    "mydata = pd.read_csv(\"data/mushroom_dataset.csv\")\n",
    "mydata = mydata.drop(['stalk-root'], axis=1)\n",
    "num_rows, num_cols = mydata.shape\n",
    "mydata.info()"
   ]
  },
  {
   "cell_type": "code",
   "execution_count": 3,
   "metadata": {},
   "outputs": [
    {
     "name": "stdout",
     "output_type": "stream",
     "text": [
      "The attributes are: \n",
      " [['p' 'x' 's' ... 'k' 's' 'u']\n",
      " ['e' 'x' 's' ... 'n' 'n' 'g']\n",
      " ['e' 'b' 's' ... 'n' 'n' 'm']\n",
      " ...\n",
      " ['e' 'f' 's' ... 'b' 'c' 'l']\n",
      " ['p' 'k' 'y' ... 'w' 'v' 'l']\n",
      " ['e' 'x' 's' ... 'o' 'c' 'l']]\n",
      "The target is: \n",
      " ['p' 'e' 'e' ... 'e' 'p' 'e']\n",
      "The final hypothesis is: \n",
      " ['p' '?' '?' '?' '?' '?' '?' '?' '?' '?' '?' '?' '?' '?' '?' 'p' '?' '?'\n",
      " '?' '?' '?' '?']\n"
     ]
    }
   ],
   "source": [
    "# FIND-S algorithm\n",
    "\n",
    "attr = np.array(mydata)[:,1:]\n",
    "print(\"The attributes are: \\n\", attr)\n",
    "\n",
    "target = np.array(mydata['class'])\n",
    "print(\"The target is: \\n\",target)\n",
    "\n",
    "def train(attr,target):\n",
    "    hypothesis = np.empty(num_cols-1, dtype=object)\n",
    "    for i, res in enumerate(target):\n",
    "        if res == \"p\": \n",
    "            for j, val in enumerate(attr[i]):\n",
    "                if hypothesis[j] == None:\n",
    "                    hypothesis[j] = val\n",
    "                elif hypothesis[j] != val:\n",
    "                    hypothesis[j] = '?' \n",
    "    return hypothesis\n",
    "\n",
    "final_hypothesis = train(attr,target)\n",
    "print(\"The final hypothesis is: \\n\", final_hypothesis)"
   ]
  }
 ],
 "metadata": {
  "kernelspec": {
   "display_name": "Python 3",
   "language": "python",
   "name": "python3"
  },
  "language_info": {
   "codemirror_mode": {
    "name": "ipython",
    "version": 3
   },
   "file_extension": ".py",
   "mimetype": "text/x-python",
   "name": "python",
   "nbconvert_exporter": "python",
   "pygments_lexer": "ipython3",
   "version": "3.7.3"
  }
 },
 "nbformat": 4,
 "nbformat_minor": 2
}
